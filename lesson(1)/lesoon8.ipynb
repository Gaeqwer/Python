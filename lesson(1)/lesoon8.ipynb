{
 "cells": [
  {
   "cell_type": "code",
   "execution_count": 1,
   "metadata": {},
   "outputs": [
    {
     "name": "stdout",
     "output_type": "stream",
     "text": [
      "5的平方是:25\n",
      "DOne\n"
     ]
    }
   ],
   "source": [
    "while(True):\n",
    "    a = input(\"Put int, 'q','Q','quit','QUIT' will leave:\")\n",
    "    if(a==\"q\" or a==\"Q\" or a==\"quit\" or a==\"QUIT\"):\n",
    "        break\n",
    "\n",
    "    try:\n",
    "        a = int(a)\n",
    "    except:\n",
    "        print(f\"{a}格式錯誤\")\n",
    "        continue\n",
    "\n",
    "    if(a%2==1):\n",
    "        print(f\"{a}的平方是:{a**2}\")\n",
    "    else:\n",
    "        print(\"Donothing\")\n",
    "    \n",
    "print(\"DOne\")"
   ]
  },
  {
   "cell_type": "code",
   "execution_count": 4,
   "metadata": {},
   "outputs": [],
   "source": [
    "import math\n",
    "def circle_area(radius):\n",
    "    area = radius ** 2 * math.pi\n",
    "    return area"
   ]
  },
  {
   "cell_type": "code",
   "execution_count": 3,
   "metadata": {},
   "outputs": [
    {
     "name": "stdout",
     "output_type": "stream",
     "text": [
      "輸入半徑:10.0\n",
      "半徑10.0,圓面積是314.1592653589793\n"
     ]
    }
   ],
   "source": [
    "import pyinputplus as pyip\n",
    "radius = pyip.inputFloat(\"輸入半徑:\")\n",
    "print(radius)\n",
    "area = circle_area(radius)\n",
    "print(f\"半徑{radius},圓面積是{area}\")"
   ]
  },
  {
   "cell_type": "code",
   "execution_count": 8,
   "metadata": {},
   "outputs": [
    {
     "data": {
      "text/plain": [
       "22.35"
      ]
     },
     "execution_count": 8,
     "metadata": {},
     "output_type": "execute_result"
    }
   ],
   "source": [
    "def area(top:int | float,\n",
    "         bottom:int | float = 10,\n",
    "         height:int | float = 10) -> float:\n",
    "    return(top+bottom) * height / 2.0"
   ]
  },
  {
   "cell_type": "code",
   "execution_count": 9,
   "metadata": {},
   "outputs": [
    {
     "data": {
      "text/plain": [
       "63.60000000000001"
      ]
     },
     "execution_count": 9,
     "metadata": {},
     "output_type": "execute_result"
    }
   ],
   "source": [
    "a1 = area(6.9,bottom=3.7,height=12.0)\n",
    "a1"
   ]
  },
  {
   "cell_type": "code",
   "execution_count": 11,
   "metadata": {},
   "outputs": [
    {
     "name": "stdout",
     "output_type": "stream",
     "text": [
      "Put height(cm):150.0\n",
      "Put weight(kg):42.0\n",
      "\n",
      "Your BMI is 18.66667\n",
      " [您的體重正常]\n"
     ]
    }
   ],
   "source": [
    "import pyinputplus as pyip\n",
    "height = pyip.inputFloat(\"Put height(cm):\",min = 0)\n",
    "print(height)\n",
    "weight = pyip.inputFloat(\"Put weight(kg):\",min=0)\n",
    "print(weight)\n",
    "bmi = weight / (height*0.01)**2\n",
    "if bmi < 18.5:\n",
    "    print(f\"\\nYour BMI is {bmi:.5f}\\n [您的體重過輕]\")\n",
    "elif bmi < 24:\n",
    "    print(f\"\\nYour BMI is {bmi:.5f}\\n [您的體重正常]\")\n",
    "elif bmi < 27:\n",
    "    print(f\"\\nYour BMI is {bmi:.5f}\\n [您的體重過重]\")\n",
    "elif bmi < 30:\n",
    "    print(f\"\\nYour BMI is {bmi:.5f}\\n [您的體重輕度肥胖]\")\n",
    "elif bmi < 35:\n",
    "    print(f\"\\nYour BMI is {bmi:.5f}\\n [您的體重中度肥胖]\")\n",
    "else:\n",
    "    print(f\"\\nYour BMI is {bmi:.5f}\\n [您的體重重度肥胖]\")"
   ]
  }
 ],
 "metadata": {
  "kernelspec": {
   "display_name": "Python 3",
   "language": "python",
   "name": "python3"
  },
  "language_info": {
   "codemirror_mode": {
    "name": "ipython",
    "version": 3
   },
   "file_extension": ".py",
   "mimetype": "text/x-python",
   "name": "python",
   "nbconvert_exporter": "python",
   "pygments_lexer": "ipython3",
   "version": "3.10.13"
  }
 },
 "nbformat": 4,
 "nbformat_minor": 2
}
