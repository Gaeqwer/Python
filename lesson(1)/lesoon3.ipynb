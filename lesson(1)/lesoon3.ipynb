{
 "cells": [
  {
   "cell_type": "code",
   "execution_count": 4,
   "metadata": {},
   "outputs": [
    {
     "data": {
      "text/plain": [
       "7.0"
      ]
     },
     "execution_count": 4,
     "metadata": {},
     "output_type": "execute_result"
    }
   ],
   "source": [
    "#0,5,9,14 plus and / 4\n",
    "value1 = 0\n",
    "value1 += 0\n",
    "value1 += 5\n",
    "value1 += 9\n",
    "value1 += 14\n",
    "\n",
    "value1 / 4"
   ]
  },
  {
   "cell_type": "code",
   "execution_count": 5,
   "metadata": {},
   "outputs": [
    {
     "data": {
      "text/plain": [
       "7.0"
      ]
     },
     "execution_count": 5,
     "metadata": {},
     "output_type": "execute_result"
    }
   ],
   "source": [
    "#5,6,8,9 plus and / 4\n",
    "value2 = 0\n",
    "value2 += 5\n",
    "value2 += 6\n",
    "value2 += 8\n",
    "value2 += 9\n",
    "\n",
    "value2 / 4"
   ]
  },
  {
   "cell_type": "code",
   "execution_count": 6,
   "metadata": {},
   "outputs": [
    {
     "name": "stdout",
     "output_type": "stream",
     "text": [
      "[0,5,9,14] standard deviation:5.94418483337567\n",
      "[0,5,9,14] average:7\n",
      "[5,6,8,9] standard deviation:1.8257418583505538\n",
      "[5,6,8,9] average:7\n"
     ]
    }
   ],
   "source": [
    "#counting standard deviation and average\n",
    "import statistics\n",
    "\n",
    "first_mean = statistics.mean([0,5,9,14])\n",
    "first = statistics.stdev([0,5,9,14])\n",
    "print(f\"[0,5,9,14] standard deviation:{first}\")\n",
    "print(f\"[0,5,9,14] average:{first_mean}\")\n",
    "\n",
    "\n",
    "second_meam = statistics.mean([5,6,8,9])\n",
    "second = statistics.stdev([5,6,8,9])\n",
    "print(f\"[5,6,8,9] standard deviation:{second}\")\n",
    "print(f\"[5,6,8,9] average:{second_meam}\")"
   ]
  },
  {
   "cell_type": "code",
   "execution_count": 7,
   "metadata": {},
   "outputs": [
    {
     "data": {
      "text/plain": [
       "True"
      ]
     },
     "execution_count": 7,
     "metadata": {},
     "output_type": "execute_result"
    }
   ],
   "source": [
    "#smaller\n",
    "3 < 5"
   ]
  },
  {
   "cell_type": "code",
   "execution_count": 8,
   "metadata": {},
   "outputs": [
    {
     "data": {
      "text/plain": [
       "False"
      ]
     },
     "execution_count": 8,
     "metadata": {},
     "output_type": "execute_result"
    }
   ],
   "source": [
    "#bigger\n",
    "3 > 5"
   ]
  },
  {
   "cell_type": "code",
   "execution_count": 9,
   "metadata": {},
   "outputs": [
    {
     "data": {
      "text/plain": [
       "True"
      ]
     },
     "execution_count": 9,
     "metadata": {},
     "output_type": "execute_result"
    }
   ],
   "source": [
    "#equal\n",
    "5 == 5"
   ]
  },
  {
   "cell_type": "code",
   "execution_count": 10,
   "metadata": {},
   "outputs": [
    {
     "data": {
      "text/plain": [
       "False"
      ]
     },
     "execution_count": 10,
     "metadata": {},
     "output_type": "execute_result"
    }
   ],
   "source": [
    "#not-equal\n",
    "5 != 5"
   ]
  },
  {
   "cell_type": "code",
   "execution_count": 1,
   "metadata": {},
   "outputs": [
    {
     "name": "stdout",
     "output_type": "stream",
     "text": [
      "Hello World!\n"
     ]
    }
   ],
   "source": [
    "print(\"Hello World!\")"
   ]
  },
  {
   "cell_type": "code",
   "execution_count": 2,
   "metadata": {},
   "outputs": [
    {
     "name": "stdout",
     "output_type": "stream",
     "text": [
      "True\n",
      ">18\n",
      "Done\n"
     ]
    }
   ],
   "source": [
    "#if single choice(True)\n",
    "a = 21\n",
    "if a > 18:\n",
    "    print(\"True\")\n",
    "    print(\">18\")\n",
    "print(\"Done\")"
   ]
  },
  {
   "cell_type": "code",
   "execution_count": 3,
   "metadata": {},
   "outputs": [
    {
     "name": "stdout",
     "output_type": "stream",
     "text": [
      "Done\n"
     ]
    }
   ],
   "source": [
    "#if single choice(False)\n",
    "a = 17\n",
    "if a > 18:\n",
    "    print(\"True\")\n",
    "    print(\">18\")\n",
    "print(\"Done\")"
   ]
  },
  {
   "cell_type": "code",
   "execution_count": 4,
   "metadata": {},
   "outputs": [
    {
     "name": "stdout",
     "output_type": "stream",
     "text": [
      "Not yet\n",
      "Your age is:17\n"
     ]
    }
   ],
   "source": [
    "#if double choice\n",
    "age = int(input(\"Put age:\"))\n",
    "\n",
    "if age >= 18:\n",
    "    print(\"You're adult\")\n",
    "else:\n",
    "    print(\"Not yet\")\n",
    "\n",
    "print(f\"Your age is:{age}\")"
   ]
  },
  {
   "cell_type": "code",
   "execution_count": 6,
   "metadata": {},
   "outputs": [
    {
     "name": "stdout",
     "output_type": "stream",
     "text": [
      "student score is:282\n"
     ]
    }
   ],
   "source": [
    "#Student total is 300 point\n",
    "#some of them can plus 5% point\n",
    "#if more than 300 then is 300\n",
    "\n",
    "student_score = int(input(\"put student score(highest is 300):\"))\n",
    "if student_score <= 300:\n",
    "    add = input(\"can student plus score?(y,n)\")\n",
    "\n",
    "    if(add == \"y\"):\n",
    "        student_score *= 1.05\n",
    "        if student_score > 300:\n",
    "            student_score = 300\n",
    "    print(f\"student score is:{round(student_score)}\")\n",
    "else:\n",
    "    print(\"Can't higher than 300\")"
   ]
  },
  {
   "cell_type": "code",
   "execution_count": null,
   "metadata": {},
   "outputs": [],
   "source": [
    "print(\"hi\")"
   ]
  }
 ],
 "metadata": {
  "kernelspec": {
   "display_name": "Python 3",
   "language": "python",
   "name": "python3"
  },
  "language_info": {
   "codemirror_mode": {
    "name": "ipython",
    "version": 3
   },
   "file_extension": ".py",
   "mimetype": "text/x-python",
   "name": "python",
   "nbconvert_exporter": "python",
   "pygments_lexer": "ipython3",
   "version": "3.10.13"
  }
 },
 "nbformat": 4,
 "nbformat_minor": 2
}
