{
 "cells": [
  {
   "cell_type": "code",
   "execution_count": null,
   "metadata": {},
   "outputs": [
    {
     "name": "stdout",
     "output_type": "stream",
     "text": [
      "When do doctors get angry? - When they run out of patients.\n"
     ]
    }
   ],
   "source": [
    "#Joke\n",
    "import requests\n",
    "\n",
    "def fetch_joke():\n",
    "    url = \"https://official-joke-api.appspot.com/random_joke\"\n",
    "    response = requests.get(url)\n",
    "    if response.status_code == 200:\n",
    "        joke = response.json()\n",
    "        print(f\"{joke['setup']} - {joke['punchline']}\")\n",
    "    else:\n",
    "        print(\"Failed to retrieve a joke.\")\n",
    "\n",
    "fetch_joke()"
   ]
  },
  {
   "cell_type": "code",
   "execution_count": null,
   "metadata": {},
   "outputs": [
    {
     "name": "stdout",
     "output_type": "stream",
     "text": [
      "[                                        ████████████████████████████████████████\n"
     ]
    }
   ],
   "source": [
    "import time\n",
    "import sys\n",
    "\n",
    "def progress_bar(duration):\n",
    "    toolbar_width = 40\n",
    "    sys.stdout.write(\"[%s]\" % (\" \" * toolbar_width))\n",
    "    sys.stdout.flush()\n",
    "    sys.stdout.write(\"\\b\" * (toolbar_width+1))  # return to start of line\n",
    "\n",
    "    for i in range(toolbar_width):\n",
    "        time.sleep(duration / toolbar_width)\n",
    "        sys.stdout.write(\"█\")\n",
    "        sys.stdout.flush()\n",
    "\n",
    "    sys.stdout.write(\"\\n\")\n",
    "\n",
    "progress_bar(10)  # Adjust duration as needes"
   ]
  },
  {
   "cell_type": "code",
   "execution_count": 20,
   "metadata": {},
   "outputs": [
    {
     "name": "stdout",
     "output_type": "stream",
     "text": [
      "Your secure password: dT?rZN;`+PcgBj8c\n"
     ]
    }
   ],
   "source": [
    "import random\n",
    "import string\n",
    "\n",
    "def generate_password(length=12):\n",
    "    chars = string.ascii_letters + string.digits + string.punctuation\n",
    "    password = ''.join(random.choice(chars) for _ in range(length))\n",
    "    print(f\"Your secure password: {password}\")\n",
    "\n",
    "generate_password(16)"
   ]
  },
  {
   "cell_type": "code",
   "execution_count": null,
   "metadata": {},
   "outputs": [
    {
     "name": "stderr",
     "output_type": "stream",
     "text": [
      "sh: 1: start: not found\n"
     ]
    }
   ],
   "source": [
    "#speaker\n",
    "from gtts import gTTS\n",
    "import os\n",
    "\n",
    "def text_to_speech(text, lang=\"en\"):\n",
    "    tts = gTTS(text=text, lang=lang)\n",
    "    tts.save(\"output.mp3\")\n",
    "    os.system(\"start output.mp3\")  # For Windows; replace with `open` for macOS or Linux\n",
    "\n",
    "text_to_speech(\"pneumonoultramicroscopicsilicovolcanoconiosis\")"
   ]
  },
  {
   "cell_type": "code",
   "execution_count": 2,
   "metadata": {},
   "outputs": [
    {
     "name": "stdout",
     "output_type": "stream",
     "text": [
      "Type this: The quick brown fox jumps over the lazy dog.\n",
      "You made a mistake. Try again!\n"
     ]
    }
   ],
   "source": [
    "import time\n",
    "\n",
    "def typing_speed_test():\n",
    "    sentence = \"The quick brown fox jumps over the lazy dog.\"\n",
    "    print(f\"Type this: {sentence}\")\n",
    "    input(\"Press Enter to start...\")\n",
    "    start_time = time.time()\n",
    "    typed_sentence = input(\"Your input: \")\n",
    "    end_time = time.time()\n",
    "    if typed_sentence == sentence:\n",
    "        elapsed_time = end_time - start_time\n",
    "        print(f\"Great job! You took {elapsed_time:.2f} seconds.\")\n",
    "    else:\n",
    "        print(\"You made a mistake. Try again!\")\n",
    "\n",
    "typing_speed_test()"
   ]
  }
 ],
 "metadata": {
  "kernelspec": {
   "display_name": "Python 3",
   "language": "python",
   "name": "python3"
  },
  "language_info": {
   "codemirror_mode": {
    "name": "ipython",
    "version": 3
   },
   "file_extension": ".py",
   "mimetype": "text/x-python",
   "name": "python",
   "nbconvert_exporter": "python",
   "pygments_lexer": "ipython3",
   "version": "3.10.17"
  }
 },
 "nbformat": 4,
 "nbformat_minor": 2
}
