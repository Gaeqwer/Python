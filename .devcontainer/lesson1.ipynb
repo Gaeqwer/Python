{
 "cells": [
  {
   "cell_type": "code",
   "execution_count": 3,
   "metadata": {},
   "outputs": [
    {
     "name": "stdout",
     "output_type": "stream",
     "text": [
      "Hello World!\n"
     ]
    }
   ],
   "source": [
    "print(\"Hello World!\")"
   ]
  },
  {
   "cell_type": "code",
   "execution_count": 1,
   "metadata": {},
   "outputs": [
    {
     "data": {
      "text/plain": [
       "15"
      ]
     },
     "execution_count": 1,
     "metadata": {},
     "output_type": "execute_result"
    }
   ],
   "source": [
    "n = 5\n",
    "m = 10\n",
    "Total = n + m\n",
    "Total"
   ]
  },
  {
   "cell_type": "code",
   "execution_count": 2,
   "metadata": {},
   "outputs": [
    {
     "name": "stdout",
     "output_type": "stream",
     "text": [
      "HEllo Python!\n"
     ]
    }
   ],
   "source": [
    "print(\"HEllo Python!\")"
   ]
  },
  {
   "cell_type": "code",
   "execution_count": 5,
   "metadata": {},
   "outputs": [
    {
     "name": "stdout",
     "output_type": "stream",
     "text": [
      "Speed in miles per hour: 7.5\n"
     ]
    }
   ],
   "source": [
    "#Counting the speed per hour\n",
    "rMinutes = float(input(\"Enter minutes: \"))\n",
    "rSeconds = float(input(\"Enter seconds: \"))\n",
    "rKilometers = float(input(\"Enter kilometers: \"))\n",
    "\n",
    "# Convert time to hours\n",
    "rHours = rMinutes / 60 + rSeconds / 3600\n",
    "\n",
    "# Convert kilometers to miles\n",
    "rMiles = rKilometers / 1.6\n",
    "\n",
    "# Calculate speed in miles per hour\n",
    "rSpeed = rMiles / rHours\n",
    "\n",
    "print(\"Speed in miles per hour:\", rSpeed)"
   ]
  },
  {
   "cell_type": "code",
   "execution_count": 8,
   "metadata": {},
   "outputs": [
    {
     "data": {
      "text/plain": [
       "21"
      ]
     },
     "metadata": {},
     "output_type": "display_data"
    }
   ],
   "source": [
    "a = 1\n",
    "b = 2\n",
    "c = 3\n",
    "d = 4\n",
    "e = 5\n",
    "f = 6\n",
    "total = a + b + c + d + e + f\n",
    "display(total)"
   ]
  },
  {
   "cell_type": "code",
   "execution_count": 9,
   "metadata": {},
   "outputs": [
    {
     "name": "stdout",
     "output_type": "stream",
     "text": [
      "E\n"
     ]
    }
   ],
   "source": [
    "a = 1\n",
    "b = 2\n",
    "c = 3\n",
    "d = 4\n",
    "e = 5\n",
    "f = 6\n",
    "total = a + b + c + d + e + f\n",
    "\n",
    "if total == 21 :\n",
    "    print(\"E\")\n",
    "else:\n",
    "    print(\"OMG\")"
   ]
  }
 ],
 "metadata": {
  "kernelspec": {
   "display_name": "Python 3",
   "language": "python",
   "name": "python3"
  },
  "language_info": {
   "codemirror_mode": {
    "name": "ipython",
    "version": 3
   },
   "file_extension": ".py",
   "mimetype": "text/x-python",
   "name": "python",
   "nbconvert_exporter": "python",
   "pygments_lexer": "ipython3",
   "version": "3.10.13"
  }
 },
 "nbformat": 4,
 "nbformat_minor": 2
}
