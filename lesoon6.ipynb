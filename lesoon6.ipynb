{
 "cells": [
  {
   "cell_type": "code",
   "execution_count": 5,
   "metadata": {},
   "outputs": [
    {
     "name": "stdout",
     "output_type": "stream",
     "text": [
      "Put Chinese score:100\n",
      "Put Math score:69\n",
      "Bonus:500\n"
     ]
    }
   ],
   "source": [
    "#if all 100 then get 1,000 dollar\n",
    "#if one is 100 then 500 dollar\n",
    "import pyinputplus as pyip\n",
    "CH = pyip.inputInt(\"Put Chinese score:\",min=0,max=100)\n",
    "print(CH)\n",
    "MT = pyip.inputInt(\"Put Math score:\",min=0,max=100)\n",
    "print(MT)\n",
    "\n",
    "if CH == 100 and MT == 100:\n",
    "    bonus = 1000\n",
    "elif CH == 100 or MT == 100:\n",
    "    bonus = 500\n",
    "else:\n",
    "    bonus = 0\n",
    "\n",
    "print(f\"Bonus:{bonus}\")"
   ]
  },
  {
   "cell_type": "code",
   "execution_count": 6,
   "metadata": {},
   "outputs": [
    {
     "data": {
      "text/plain": [
       "range(1, 10, 2)"
      ]
     },
     "execution_count": 6,
     "metadata": {},
     "output_type": "execute_result"
    }
   ],
   "source": [
    "range(10)\n",
    "range(1,10)\n",
    "range(1,10,2)"
   ]
  },
  {
   "cell_type": "code",
   "execution_count": 8,
   "metadata": {},
   "outputs": [
    {
     "name": "stdout",
     "output_type": "stream",
     "text": [
      "1~10 total is:55\n"
     ]
    }
   ],
   "source": [
    "value = 0\n",
    "for i in range(1,11):\n",
    "    value += i\n",
    "\n",
    "print(f\"1~10 total is:{value}\")"
   ]
  },
  {
   "cell_type": "code",
   "execution_count": 10,
   "metadata": {},
   "outputs": [
    {
     "name": "stdout",
     "output_type": "stream",
     "text": [
      "put the first number:15\n",
      "put the finish number:75\n",
      "15 to 75 is 2745\n"
     ]
    }
   ],
   "source": [
    "import pyinputplus as pyip\n",
    "\n",
    "start = pyip.inputInt(\"put the first number:\")\n",
    "print(start)\n",
    "finish = pyip.inputInt(\"put the finish number:\")\n",
    "print(finish)\n",
    "\n",
    "value = 0\n",
    "for i in range(start,finish+1):\n",
    "    value += i\n",
    "\n",
    "print(f\"{start} to {finish} is {value}\")"
   ]
  },
  {
   "cell_type": "code",
   "execution_count": 14,
   "metadata": {},
   "outputs": [
    {
     "name": "stdout",
     "output_type": "stream",
     "text": [
      "i = 1\n",
      "j = 1 j = 2 j = 3 j = 4 j = 5 j = 6 j = 7 j = 8 j = 9 \n",
      "======\n",
      "i = 2\n",
      "j = 1 j = 2 j = 3 j = 4 j = 5 j = 6 j = 7 j = 8 j = 9 \n",
      "======\n",
      "i = 3\n",
      "j = 1 j = 2 j = 3 j = 4 j = 5 j = 6 j = 7 j = 8 j = 9 \n",
      "======\n",
      "i = 4\n",
      "j = 1 j = 2 j = 3 j = 4 j = 5 j = 6 j = 7 j = 8 j = 9 \n",
      "======\n",
      "i = 5\n",
      "j = 1 j = 2 j = 3 j = 4 j = 5 j = 6 j = 7 j = 8 j = 9 \n",
      "======\n",
      "i = 6\n",
      "j = 1 j = 2 j = 3 j = 4 j = 5 j = 6 j = 7 j = 8 j = 9 \n",
      "======\n",
      "i = 7\n",
      "j = 1 j = 2 j = 3 j = 4 j = 5 j = 6 j = 7 j = 8 j = 9 \n",
      "======\n",
      "i = 8\n",
      "j = 1 j = 2 j = 3 j = 4 j = 5 j = 6 j = 7 j = 8 j = 9 \n",
      "======\n",
      "i = 9\n",
      "j = 1 j = 2 j = 3 j = 4 j = 5 j = 6 j = 7 j = 8 j = 9 \n",
      "======\n"
     ]
    }
   ],
   "source": [
    "for i in range(1,10):\n",
    "    print(f\"i = {i}\")\n",
    "    for j in range(1,10):\n",
    "        print(f\"j = {j}\",end=\" \")\n",
    "    print()\n",
    "    print(\"======\")"
   ]
  },
  {
   "cell_type": "code",
   "execution_count": 19,
   "metadata": {},
   "outputs": [
    {
     "name": "stdout",
     "output_type": "stream",
     "text": [
      "1 x 1= 1  1 x 2= 2  1 x 3= 3  1 x 4= 4  1 x 5= 5  1 x 6= 6  1 x 7= 7  1 x 8= 8  1 x 9= 9  \n",
      "2 x 1= 2  2 x 2= 4  2 x 3= 6  2 x 4= 8  2 x 5=10  2 x 6=12  2 x 7=14  2 x 8=16  2 x 9=18  \n",
      "3 x 1= 3  3 x 2= 6  3 x 3= 9  3 x 4=12  3 x 5=15  3 x 6=18  3 x 7=21  3 x 8=24  3 x 9=27  \n",
      "4 x 1= 4  4 x 2= 8  4 x 3=12  4 x 4=16  4 x 5=20  4 x 6=24  4 x 7=28  4 x 8=32  4 x 9=36  \n",
      "5 x 1= 5  5 x 2=10  5 x 3=15  5 x 4=20  5 x 5=25  5 x 6=30  5 x 7=35  5 x 8=40  5 x 9=45  \n",
      "6 x 1= 6  6 x 2=12  6 x 3=18  6 x 4=24  6 x 5=30  6 x 6=36  6 x 7=42  6 x 8=48  6 x 9=54  \n",
      "7 x 1= 7  7 x 2=14  7 x 3=21  7 x 4=28  7 x 5=35  7 x 6=42  7 x 7=49  7 x 8=56  7 x 9=63  \n",
      "8 x 1= 8  8 x 2=16  8 x 3=24  8 x 4=32  8 x 5=40  8 x 6=48  8 x 7=56  8 x 8=64  8 x 9=72  \n",
      "9 x 1= 9  9 x 2=18  9 x 3=27  9 x 4=36  9 x 5=45  9 x 6=54  9 x 7=63  9 x 8=72  9 x 9=81  \n"
     ]
    }
   ],
   "source": [
    "for i in range(1,10):\n",
    "    for j in range(1,10):\n",
    "        print(f\"{i:<2d}x{j:2d}={i*j:2d}\",end=\"  \")\n",
    "    print()"
   ]
  },
  {
   "cell_type": "code",
   "execution_count": 17,
   "metadata": {},
   "outputs": [
    {
     "name": "stdout",
     "output_type": "stream",
     "text": [
      "55\n"
     ]
    }
   ],
   "source": [
    "value = 0\n",
    "i = 1\n",
    "while i<=10:\n",
    "    value += i\n",
    "    i += 1\n",
    "\n",
    "print(value)"
   ]
  }
 ],
 "metadata": {
  "kernelspec": {
   "display_name": "Python 3",
   "language": "python",
   "name": "python3"
  },
  "language_info": {
   "codemirror_mode": {
    "name": "ipython",
    "version": 3
   },
   "file_extension": ".py",
   "mimetype": "text/x-python",
   "name": "python",
   "nbconvert_exporter": "python",
   "pygments_lexer": "ipython3",
   "version": "3.10.13"
  }
 },
 "nbformat": 4,
 "nbformat_minor": 2
}
