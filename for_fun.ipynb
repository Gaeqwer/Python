{
 "cells": [
  {
   "cell_type": "code",
   "execution_count": 1,
   "metadata": {},
   "outputs": [
    {
     "name": "stdout",
     "output_type": "stream",
     "text": [
      "Density: 0.5 g/cm^3\n"
     ]
    }
   ],
   "source": [
    "#Counting Density\n",
    "mass = float(input(\"Enter the mass in grams: \"))\n",
    "volume = float(input(\"Enter the volume in cubic centimeters: \"))\n",
    "\n",
    "density = mass / volume\n",
    "\n",
    "print(\"Density:\", density, \"g/cm^3\")\n",
    "#Density = Mass/Volume "
   ]
  },
  {
   "cell_type": "code",
   "execution_count": 2,
   "metadata": {},
   "outputs": [
    {
     "name": "stdout",
     "output_type": "stream",
     "text": [
      "Volume: 18.0\n"
     ]
    }
   ],
   "source": [
    "#Counting Square Volume\n",
    "length = float(input(\"Enter the length: \"))\n",
    "width = float(input(\"Enter the width: \"))\n",
    "height = float(input(\"Enter the height: \"))\n",
    "\n",
    "volume = length * width * height\n",
    "\n",
    "print(\"Volume:\", volume)\n",
    "#SQUARE Volume = Length × Width × Height"
   ]
  },
  {
   "cell_type": "code",
   "execution_count": 6,
   "metadata": {},
   "outputs": [
    {
     "name": "stdout",
     "output_type": "stream",
     "text": [
      "Volume: 50.26548245743669\n"
     ]
    }
   ],
   "source": [
    "#Counting Circle Volume\n",
    "import math\n",
    "\n",
    "radius = float(input(\"Enter the radius of the cylinder: \"))\n",
    "height = float(input(\"Enter the height of the cylinder: \"))\n",
    "\n",
    "volume = math.pi * (radius ** 2) * height\n",
    "\n",
    "print(\"Volume:\", volume)\n",
    "#CIRCLE Volume = π × r2 × h"
   ]
  },
  {
   "cell_type": "code",
   "execution_count": 7,
   "metadata": {},
   "outputs": [
    {
     "name": "stdout",
     "output_type": "stream",
     "text": [
      "Volume of the triangular prism: 4.0\n"
     ]
    }
   ],
   "source": [
    "#Counting triangle Volume\n",
    "base = float(input(\"Enter the base of the triangle: \"))\n",
    "height = float(input(\"Enter the height of the triangle: \"))\n",
    "length = float(input(\"Enter the length of the prism: \"))\n",
    "\n",
    "volume = 0.5 * base * height * length\n",
    "\n",
    "print(\"Volume:\", volume)\n",
    "#TRIANGLE Volume = 0.5 × Base × Height × Length"
   ]
  }
 ],
 "metadata": {
  "kernelspec": {
   "display_name": "Python 3",
   "language": "python",
   "name": "python3"
  },
  "language_info": {
   "codemirror_mode": {
    "name": "ipython",
    "version": 3
   },
   "file_extension": ".py",
   "mimetype": "text/x-python",
   "name": "python",
   "nbconvert_exporter": "python",
   "pygments_lexer": "ipython3",
   "version": "3.10.13"
  }
 },
 "nbformat": 4,
 "nbformat_minor": 2
}
