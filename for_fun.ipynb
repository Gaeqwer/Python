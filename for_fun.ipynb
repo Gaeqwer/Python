{
 "cells": [
  {
   "cell_type": "code",
   "execution_count": 2,
   "metadata": {},
   "outputs": [
    {
     "name": "stdout",
     "output_type": "stream",
     "text": [
      "Volume: 18.0\n"
     ]
    }
   ],
   "source": [
    "#Counting Square Volume\n",
    "length = float(input(\"Enter the length: \"))\n",
    "width = float(input(\"Enter the width: \"))\n",
    "height = float(input(\"Enter the height: \"))\n",
    "\n",
    "volume = length * width * height\n",
    "\n",
    "print(\"Volume:\", volume)\n",
    "#SQUARE Volume = Length × Width × Height"
   ]
  },
  {
   "cell_type": "code",
   "execution_count": 6,
   "metadata": {},
   "outputs": [
    {
     "name": "stdout",
     "output_type": "stream",
     "text": [
      "Volume: 50.26548245743669\n"
     ]
    }
   ],
   "source": [
    "#Counting Circle Volume\n",
    "import math\n",
    "\n",
    "radius = float(input(\"Enter the radius of the cylinder: \"))\n",
    "height = float(input(\"Enter the height of the cylinder: \"))\n",
    "\n",
    "volume = math.pi * (radius ** 2) * height\n",
    "\n",
    "print(\"Volume:\", volume)\n",
    "#CIRCLE Volume = π × r2 × h"
   ]
  },
  {
   "cell_type": "code",
   "execution_count": 7,
   "metadata": {},
   "outputs": [
    {
     "name": "stdout",
     "output_type": "stream",
     "text": [
      "Volume of the triangular prism: 4.0\n"
     ]
    }
   ],
   "source": [
    "#Counting triangle Volume\n",
    "base = float(input(\"Enter the base of the triangle: \"))\n",
    "height = float(input(\"Enter the height of the triangle: \"))\n",
    "length = float(input(\"Enter the length of the prism: \"))\n",
    "\n",
    "volume = 0.5 * base * height * length\n",
    "\n",
    "print(\"Volume:\", volume)\n",
    "#TRIANGLE Volume = 0.5 × Base × Height × Length"
   ]
  },
  {
   "cell_type": "code",
   "execution_count": 1,
   "metadata": {},
   "outputs": [
    {
     "data": {
      "text/plain": [
       "15"
      ]
     },
     "execution_count": 1,
     "metadata": {},
     "output_type": "execute_result"
    }
   ],
   "source": [
    "import math\n",
    "\n",
    "n = 100\n",
    "k = 7\n",
    "\n",
    "# 計算最少有多少名學生訂閱的雜誌類相同\n",
    "min_students_same_subscription = math.ceil(n / k)\n",
    "min_students_same_subscription"
   ]
  },
  {
   "cell_type": "code",
   "execution_count": 2,
   "metadata": {},
   "outputs": [
    {
     "data": {
      "text/plain": [
       "14"
      ]
     },
     "execution_count": 2,
     "metadata": {},
     "output_type": "execute_result"
    }
   ],
   "source": [
    "import math\n",
    "\n",
    "# Number of children\n",
    "n = 81\n",
    "\n",
    "# Number of different fruit combinations\n",
    "k = 6\n",
    "\n",
    "# Calculate the minimum number of children who must have the same fruit combination\n",
    "min_children_same_combination = math.ceil(n / k)\n",
    "min_children_same_combination"
   ]
  },
  {
   "cell_type": "code",
   "execution_count": 1,
   "metadata": {},
   "outputs": [
    {
     "name": "stdout",
     "output_type": "stream",
     "text": [
      "The absolute value of -123.0 is 123.0\n"
     ]
    }
   ],
   "source": [
    "#絕對值\n",
    "# Get input from the user\n",
    "number = float(input(\"Enter a number: \"))\n",
    "\n",
    "# Calculate the absolute value\n",
    "absolute_value = abs(number)\n",
    "\n",
    "# Display the result\n",
    "print(f\"The absolute value of {number} is {absolute_value}\")\n"
   ]
  },
  {
   "cell_type": "code",
   "execution_count": 3,
   "metadata": {},
   "outputs": [
    {
     "name": "stdout",
     "output_type": "stream",
     "text": [
      "Task Complete!\n"
     ]
    }
   ],
   "source": [
    "#sping thin(idk what is this)\n",
    "import itertools\n",
    "import time\n",
    "import sys\n",
    "\n",
    "# Function to display an animated spinner\n",
    "def animated_spinner():\n",
    "    spinner = itertools.cycle(['|', '/', '-', '\\\\'])\n",
    "    \n",
    "    for _ in range(50):  # Loop for a fixed number of iterations\n",
    "        sys.stdout.write(next(spinner))  # Write the next spinner character\n",
    "        sys.stdout.flush()  # Flush the output buffer\n",
    "        time.sleep(0.1)  # Wait for 0.1 second\n",
    "        sys.stdout.write('\\b')  # Backspace to overwrite the last character\n",
    "\n",
    "# Call the function\n",
    "animated_spinner()\n",
    "print(\"Task Complete!\")"
   ]
  },
  {
   "cell_type": "code",
   "execution_count": 14,
   "metadata": {},
   "outputs": [
    {
     "name": "stdout",
     "output_type": "stream",
     "text": [
      "  ____                  \n",
      " / ___| __ _ _ __ _   _ \n",
      "| |  _ / _` | '__| | | |\n",
      "| |_| | (_| | |  | |_| |\n",
      " \\____|\\__,_|_|   \\__, |\n",
      "                  |___/ \n",
      "\n"
     ]
    }
   ],
   "source": [
    "#bro this is cool!!\n",
    "import pyfiglet\n",
    "\n",
    "# Function to generate ASCII art\n",
    "def ascii_art_generator(text):\n",
    "    ascii_art = pyfiglet.figlet_format(text)\n",
    "    print(ascii_art)\n",
    "\n",
    "# Input from the user\n",
    "user_text = input(\"Enter text to generate ASCII art: \")\n",
    "\n",
    "# Call the function\n",
    "ascii_art_generator(user_text)"
   ]
  }
 ],
 "metadata": {
  "kernelspec": {
   "display_name": "Python 3",
   "language": "python",
   "name": "python3"
  },
  "language_info": {
   "codemirror_mode": {
    "name": "ipython",
    "version": 3
   },
   "file_extension": ".py",
   "mimetype": "text/x-python",
   "name": "python",
   "nbconvert_exporter": "python",
   "pygments_lexer": "ipython3",
   "version": "3.10.14"
  }
 },
 "nbformat": 4,
 "nbformat_minor": 2
}
