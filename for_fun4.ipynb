{
 "cells": [
  {
   "cell_type": "code",
   "execution_count": 17,
   "metadata": {},
   "outputs": [
    {
     "name": "stdout",
     "output_type": "stream",
     "text": [
      "Press Enter to start the stopwatch and Enter again to stop it.\n",
      "Elapsed time: 3.09 seconds.\n"
     ]
    }
   ],
   "source": [
    "import time\n",
    "\n",
    "def stopwatch():\n",
    "    print(\"Press Enter to start the stopwatch and Enter again to stop it.\")\n",
    "    input()\n",
    "    start_time = time.time()\n",
    "    input(\"Press Enter to stop...\")\n",
    "    elapsed_time = time.time() - start_time\n",
    "    print(f\"Elapsed time: {elapsed_time:.2f} seconds.\")\n",
    "\n",
    "stopwatch()"
   ]
  },
  {
   "cell_type": "code",
   "execution_count": 7,
   "metadata": {},
   "outputs": [
    {
     "name": "stdout",
     "output_type": "stream",
     "text": [
      "1. Kilometers to Miles\n",
      "2. Celsius to Fahrenheit\n",
      "3. Kilograms to Pounds\n",
      "10.0 km is 6.21371 miles.\n"
     ]
    }
   ],
   "source": [
    "def unit_converter():\n",
    "    print(\"1. Kilometers to Miles\")\n",
    "    print(\"2. Celsius to Fahrenheit\")\n",
    "    print(\"3. Kilograms to Pounds\")\n",
    "    choice = input(\"Choose a conversion: \")\n",
    "    if choice == \"1\":\n",
    "        km = float(input(\"Enter kilometers: \"))\n",
    "        print(f\"{km} km is {km * 0.621371} miles.\")\n",
    "    elif choice == \"2\":\n",
    "        celsius = float(input(\"Enter Celsius: \"))\n",
    "        print(f\"{celsius}°C is {celsius * 9/5 + 32}°F.\")\n",
    "    elif choice == \"3\":\n",
    "        kg = float(input(\"Enter kilograms: \"))\n",
    "        print(f\"{kg} kg is {kg * 2.20462} pounds.\")\n",
    "    else:\n",
    "        print(\"Invalid choice.\")\n",
    "\n",
    "unit_converter()"
   ]
  },
  {
   "cell_type": "code",
   "execution_count": 21,
   "metadata": {},
   "outputs": [
    {
     "name": "stdout",
     "output_type": "stream",
     "text": [
      "You rolled a 1!\n",
      "You rolled a 20!\n"
     ]
    }
   ],
   "source": [
    "import random\n",
    "\n",
    "def roll_dice(sides=6):\n",
    "    result = random.randint(1, sides)\n",
    "    print(f\"You rolled a {result}!\")\n",
    "\n",
    "roll_dice()  # Default 6-sided dice\n",
    "roll_dice(20)  # 20-sided dice"
   ]
  },
  {
   "cell_type": "code",
   "execution_count": 22,
   "metadata": {},
   "outputs": [
    {
     "name": "stdout",
     "output_type": "stream",
     "text": [
      "Bot: I don't understand that.\n",
      "Bot: Hi there! How can I help you?\n",
      "Bot: Good morning!\n",
      "Bot: Goodbye! Have a great day!\n",
      "Bot: Bye!\n"
     ]
    }
   ],
   "source": [
    "def chatbot():\n",
    "    responses = {\n",
    "        \"hello\": \"Hi there! How can I help you?\",\n",
    "        \"how are you\": \"I'm just a program, but I'm doing great!\",\n",
    "        \"bye\": \"Goodbye! Have a great day!\",\n",
    "        \"how is go in\": \"I'm doing great!\",\n",
    "        \"what your favorite food\": \"Chicken Nugget!\",\n",
    "        \"what can you do\": \"I can response your questions!\",\n",
    "        \"i love you\": \"I love you,too.\",\n",
    "        \"good morning\": \"Good morning!\",\n",
    "        \"Happy New Year\": \"Happy New Year!\"\n",
    "    }\n",
    "    while True:\n",
    "        user_input = input(\"You: \").lower()\n",
    "        if user_input in responses:\n",
    "            print(f\"Bot: {responses[user_input]}\")\n",
    "        elif user_input == \"exit\":\n",
    "            print(\"Bot: Bye!\")\n",
    "            break\n",
    "        else:\n",
    "            print(\"Bot: I don't understand that.\")\n",
    "\n",
    "chatbot()"
   ]
  },
  {
   "cell_type": "code",
   "execution_count": 4,
   "metadata": {},
   "outputs": [
    {
     "name": "stdout",
     "output_type": "stream",
     "text": [
      "Welcome to the Calculator!\n",
      "The result is: 4.0\n"
     ]
    }
   ],
   "source": [
    "def calculator():\n",
    "    print(\"Welcome to the Calculator!\")\n",
    "    num1 = float(input(\"Enter the first number: \"))\n",
    "    operator = input(\"Enter an operator (+, -, *, /): \")\n",
    "    num2 = float(input(\"Enter the second number: \"))\n",
    "    \n",
    "    if operator == '+':\n",
    "        print(f\"The result is: {num1 + num2}\")\n",
    "    elif operator == '-':\n",
    "        print(f\"The result is: {num1 - num2}\")\n",
    "    elif operator == '*':\n",
    "        print(f\"The result is: {num1 * num2}\")\n",
    "    elif operator == '/':\n",
    "        print(f\"The result is: {num1 / num2}\")\n",
    "    else:\n",
    "        print(\"Invalid operator!\")\n",
    "\n",
    "calculator()"
   ]
  },
  {
   "cell_type": "code",
   "execution_count": 3,
   "metadata": {},
   "outputs": [
    {
     "name": "stdout",
     "output_type": "stream",
     "text": [
      "Translated: Bonjour\n"
     ]
    }
   ],
   "source": [
    "from googletrans import Translator\n",
    "\n",
    "translator = Translator()\n",
    "text = input(\"Enter text: \")\n",
    "lang = input(\"Translate to (e.g., fr, es, zh, ja): \")\n",
    "\n",
    "translated = translator.translate(text, dest=lang)\n",
    "print(\"Translated:\", translated.text)"
   ]
  }
 ],
 "metadata": {
  "kernelspec": {
   "display_name": "Python 3",
   "language": "python",
   "name": "python3"
  },
  "language_info": {
   "codemirror_mode": {
    "name": "ipython",
    "version": 3
   },
   "file_extension": ".py",
   "mimetype": "text/x-python",
   "name": "python",
   "nbconvert_exporter": "python",
   "pygments_lexer": "ipython3",
   "version": "3.10.14"
  }
 },
 "nbformat": 4,
 "nbformat_minor": 2
}
