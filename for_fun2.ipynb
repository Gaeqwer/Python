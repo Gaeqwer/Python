{
 "cells": [
  {
   "cell_type": "code",
   "execution_count": 6,
   "metadata": {},
   "outputs": [
    {
     "name": "stdout",
     "output_type": "stream",
     "text": [
      "Welcome to Hangman!\n",
      "Word: _______\n",
      "Good guess!\n",
      "Word: _a___a_\n",
      "Good guess!\n",
      "Word: ha___a_\n",
      "Good guess!\n",
      "Word: ha___a_\n",
      "Good guess!\n",
      "Word: han__an\n",
      "Good guess!\n",
      "Word: hang_an\n",
      "Good guess!\n",
      "Word: hangman\n",
      "Congratulations! You've guessed the word!\n"
     ]
    }
   ],
   "source": [
    "import random\n",
    "\n",
    "def hangman():\n",
    "    words = [\"python\", \"programming\", \"hangman\", \"challenge\"]\n",
    "    word_to_guess = random.choice(words)\n",
    "    guessed_letters = []\n",
    "    attempts = 6\n",
    "    \n",
    "    print(\"Welcome to Hangman!\")\n",
    "    \n",
    "    while attempts > 0:\n",
    "        display_word = ''.join([letter if letter in guessed_letters else '_' for letter in word_to_guess])\n",
    "        print(f\"Word: {display_word}\")\n",
    "        \n",
    "        if '_' not in display_word:\n",
    "            print(\"Congratulations! You've guessed the word!\")\n",
    "            break\n",
    "        \n",
    "        guess = input(\"Guess a letter: \").lower()\n",
    "        \n",
    "        if guess in guessed_letters:\n",
    "            print(\"You've already guessed that letter.\")\n",
    "        elif guess in word_to_guess:\n",
    "            guessed_letters.append(guess)\n",
    "            print(\"Good guess!\")\n",
    "        else:\n",
    "            guessed_letters.append(guess)\n",
    "            attempts -= 1\n",
    "            print(f\"Wrong guess! You have {attempts} attempts left.\")\n",
    "    \n",
    "    if attempts == 0:\n",
    "        print(f\"You've run out of attempts! The word was: {word_to_guess}\")\n",
    "\n",
    "hangman()"
   ]
  },
  {
   "cell_type": "code",
   "execution_count": 21,
   "metadata": {},
   "outputs": [
    {
     "name": "stdout",
     "output_type": "stream",
     "text": [
      "You chose: rock\n",
      "Computer chose: scissors\n",
      "You win!\n"
     ]
    }
   ],
   "source": [
    "import random\n",
    "\n",
    "def rock_paper_scissors():\n",
    "    options = [\"rock\", \"paper\", \"scissors\"]\n",
    "    computer_choice = random.choice(options)\n",
    "    player_choice = input(\"Choose rock, paper, or scissors: \").lower()\n",
    "    \n",
    "    print(f\"You chose: {player_choice}\")\n",
    "    print(f\"Computer chose: {computer_choice}\")\n",
    "    \n",
    "    if player_choice == computer_choice:\n",
    "        print(\"It's a tie!\")\n",
    "    elif (player_choice == \"rock\" and computer_choice == \"scissors\") or \\\n",
    "         (player_choice == \"scissors\" and computer_choice == \"paper\") or \\\n",
    "         (player_choice == \"paper\" and computer_choice == \"rock\"):\n",
    "        print(\"You win!\")\n",
    "    else:\n",
    "        print(\"You lose!\")\n",
    "\n",
    "rock_paper_scissors()"
   ]
  },
  {
   "cell_type": "code",
   "execution_count": 4,
   "metadata": {},
   "outputs": [
    {
     "name": "stdout",
     "output_type": "stream",
     "text": [
      "Welcome to the Adventure Game!\n",
      "You find yourself at a crossroads. You can go left or right.\n",
      "You encounter a mountain.\n",
      "You reached the top and found treasure. You win!\n"
     ]
    }
   ],
   "source": [
    "def adventure_game():\n",
    "    print(\"Welcome to the Adventure Game!\")\n",
    "    print(\"You find yourself at a crossroads. You can go left or right.\")\n",
    "    choice1 = input(\"Do you want to go left or right? \").lower()\n",
    "\n",
    "    if choice1 == \"left\":\n",
    "        print(\"You encounter a wild river. You need to swim across.\")\n",
    "        choice2 = input(\"Do you swim or turn back? \").lower()\n",
    "        if choice2 == \"swim\":\n",
    "            print(\"You swam across safely. You win!\")\n",
    "        else:\n",
    "            print(\"You got lost. Game over.\")\n",
    "    elif choice1 == \"right\":\n",
    "        print(\"You encounter a mountain.\")\n",
    "        choice2 = input(\"Do you climb or turn back? \").lower()\n",
    "        if choice2 == \"climb\":\n",
    "            print(\"You reached the top and found treasure. You win!\")\n",
    "        else:\n",
    "            print(\"You got lost. Game over.\")\n",
    "    else:\n",
    "        print(\"Invalid choice. Game over.\")\n",
    "\n",
    "adventure_game()"
   ]
  }
 ],
 "metadata": {
  "kernelspec": {
   "display_name": "Python 3",
   "language": "python",
   "name": "python3"
  },
  "language_info": {
   "codemirror_mode": {
    "name": "ipython",
    "version": 3
   },
   "file_extension": ".py",
   "mimetype": "text/x-python",
   "name": "python",
   "nbconvert_exporter": "python",
   "pygments_lexer": "ipython3",
   "version": "3.10.14"
  }
 },
 "nbformat": 4,
 "nbformat_minor": 2
}
