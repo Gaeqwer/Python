{
 "cells": [
  {
   "cell_type": "code",
   "execution_count": 1,
   "metadata": {},
   "outputs": [
    {
     "name": "stdout",
     "output_type": "stream",
     "text": [
      "Welcome to Hangman!\n",
      "Word: _______\n",
      "Wrong guess! You have 5 attempts left.\n",
      "Word: _______\n",
      "Good guess!\n",
      "Word: ___g___\n",
      "Wrong guess! You have 4 attempts left.\n",
      "Word: ___g___\n",
      "Wrong guess! You have 3 attempts left.\n",
      "Word: ___g___\n",
      "Good guess!\n",
      "Word: h__g___\n",
      "Good guess!\n",
      "Word: ha_g_a_\n",
      "Good guess!\n",
      "Word: hang_an\n",
      "Good guess!\n",
      "Word: hangman\n",
      "Congratulations! You've guessed the word!\n"
     ]
    }
   ],
   "source": [
    "#the sticks man thing(bored)\n",
    "import random\n",
    "\n",
    "def hangman():\n",
    "    words = [\"python\", \"programming\", \"hangman\", \"challenge\"]\n",
    "    word_to_guess = random.choice(words)\n",
    "    guessed_letters = []\n",
    "    attempts = 6\n",
    "    \n",
    "    print(\"Welcome to Hangman!\")\n",
    "    \n",
    "    while attempts > 0:\n",
    "        display_word = ''.join([letter if letter in guessed_letters else '_' for letter in word_to_guess])\n",
    "        print(f\"Word: {display_word}\")\n",
    "        \n",
    "        if '_' not in display_word:\n",
    "            print(\"Congratulations! You've guessed the word!\")\n",
    "            break\n",
    "        \n",
    "        guess = input(\"Guess a letter: \").lower()\n",
    "        \n",
    "        if guess in guessed_letters:\n",
    "            print(\"You've already guessed that letter.\")\n",
    "        elif guess in word_to_guess:\n",
    "            guessed_letters.append(guess)\n",
    "            print(\"Good guess!\")\n",
    "        else:\n",
    "            guessed_letters.append(guess)\n",
    "            attempts -= 1\n",
    "            print(f\"Wrong guess! You have {attempts} attempts left.\")\n",
    "    \n",
    "    if attempts == 0:\n",
    "        print(f\"You've run out of attempts! The word was: {word_to_guess}\")\n",
    "\n",
    "hangman()"
   ]
  },
  {
   "cell_type": "code",
   "execution_count": null,
   "metadata": {},
   "outputs": [
    {
     "name": "stdout",
     "output_type": "stream",
     "text": [
      "You chose: rock\n",
      "Computer chose: scissors\n",
      "You win!\n"
     ]
    }
   ],
   "source": [
    "#rock peper scissors game with computer\n",
    "import random\n",
    "\n",
    "def rock_paper_scissors():\n",
    "    options = [\"rock\", \"paper\", \"scissors\"]\n",
    "    computer_choice = random.choice(options)\n",
    "    player_choice = input(\"Choose rock, paper, or scissors: \").lower()\n",
    "    \n",
    "    print(f\"You chose: {player_choice}\")\n",
    "    print(f\"Computer chose: {computer_choice}\")\n",
    "    \n",
    "    if player_choice == computer_choice:\n",
    "        print(\"It's a tie!\")\n",
    "    elif (player_choice == \"rock\" and computer_choice == \"scissors\") or \\\n",
    "         (player_choice == \"scissors\" and computer_choice == \"paper\") or \\\n",
    "         (player_choice == \"paper\" and computer_choice == \"rock\"):\n",
    "        print(\"You win!\")\n",
    "    else:\n",
    "        print(\"You lose!\")\n",
    "\n",
    "rock_paper_scissors()"
   ]
  },
  {
   "cell_type": "code",
   "execution_count": null,
   "metadata": {},
   "outputs": [
    {
     "name": "stdout",
     "output_type": "stream",
     "text": [
      "Welcome to the Adventure Game!\n",
      "You find yourself at a crossroads. You can go left or right.\n",
      "You encounter a mountain.\n",
      "You reached the top and found treasure. You win!\n"
     ]
    }
   ],
   "source": [
    "#adventure game(bored)\n",
    "def adventure_game():\n",
    "    print(\"Welcome to the Adventure Game!\")\n",
    "    print(\"You find yourself at a crossroads. You can go left or right.\")\n",
    "    choice1 = input(\"Do you want to go left or right? \").lower()\n",
    "\n",
    "    if choice1 == \"left\":\n",
    "        print(\"You encounter a wild river. You need to swim across.\")\n",
    "        choice2 = input(\"Do you swim or turn back? \").lower()\n",
    "        if choice2 == \"swim\":\n",
    "            print(\"You swam across safely. You win!\")\n",
    "        else:\n",
    "            print(\"You got lost. Game over.\")\n",
    "    elif choice1 == \"right\":\n",
    "        print(\"You encounter a mountain.\")\n",
    "        choice2 = input(\"Do you climb or turn back? \").lower()\n",
    "        if choice2 == \"climb\":\n",
    "            print(\"You reached the top and found treasure. You win!\")\n",
    "        else:\n",
    "            print(\"You got lost. Game over.\")\n",
    "    else:\n",
    "        print(\"Invalid choice. Game over.\")\n",
    "\n",
    "adventure_game()"
   ]
  },
  {
   "cell_type": "code",
   "execution_count": 2,
   "metadata": {},
   "outputs": [
    {
     "name": "stdout",
     "output_type": "stream",
     "text": [
      "QR code created and saved as qrcode.png\n"
     ]
    }
   ],
   "source": [
    "#making qr_code \n",
    "import qrcode\n",
    "\n",
    "def create_qr_code():\n",
    "    data = input(\"Enter the text or URL for the QR code: \")\n",
    "    qr = qrcode.QRCode(\n",
    "        version=1,\n",
    "        error_correction=qrcode.constants.ERROR_CORRECT_L,\n",
    "        box_size=10,\n",
    "        border=4,\n",
    "    )\n",
    "    qr.add_data(data)\n",
    "    qr.make(fit=True)\n",
    "\n",
    "    img = qr.make_image(fill_color=\"black\", back_color=\"white\")\n",
    "    img.save(\"qrcode.png\")\n",
    "    print(\"QR code created and saved as qrcode.png\")\n",
    "\n",
    "create_qr_code()"
   ]
  },
  {
   "cell_type": "code",
   "execution_count": 6,
   "metadata": {},
   "outputs": [
    {
     "name": "stdout",
     "output_type": "stream",
     "text": [
      "\n",
      "Available Fonts:\n",
      "['small_caps', 'caus_in_', 'usa_____', 'puzzle', 'hyper___', 'helvbi', 'tsm_____', 'danc4', 'zone7___', 'cosmike', 'cola', 'nancyj', 'cygnet', 'js_capital_curves', 'fbr_tilt', 'courbi', 'convoy__', 'platoon2', '3d-ascii', 'rad_____', 't__of_ap', '3x5', 'electronic', 'c_consen', 'isometric1', '5x8', 'amc_slash', 'elite', 'atc_gran', 'pacos_pe', 'master_o', 'peaks', 'fair_mea', 'muzzle', 'banner', 'charact3', 'maxfour', 'defleppard', 'delta_corps_priest_1', 'patorjk-hex', 'char4___', 'future_1', 'digital', 'blocky', 'd_dragon', 'the_edge', 'tsalagi', 'tombstone', 'tec_7000', 'mnemonic', 'jacky', 'utopiabi', 'rad_phan', 'mayhem_d', 'ghost_bo', 'char3___', 'serifcap', 'amc_untitled', 'platoon_', 'asc_____', 'sbook', 'thin', 'tiles', 'amc_slider', 'c_ascii_', 'ascii___', 'js_bracket_letters', 'lockergnome', 'shadow', 'sbookbi', 'fbr12___', 'xcour', 'clr4x6', 'amc_razor2', 'ti_pan__', 'barbwire', 'eftichess', 'times', 'isometric2', 'xbritei', 'tecrvs__', 'timesofl', 'slscript', 'cyberlarge', '5x7', 'contessa', 'swan', 'krak_out', 'smslant', 'rozzo', 'eftitalic', 'cli8x8', 'isometric3', 'high_noo', 'phonix__', 'standard', 'clb6x10', 'clb8x10', 'ok_beer_', 'gauntlet', 'war_of_w', 'cosmic', 'xhelvbi', 'c1______', 'spc_demo', 'braced', 'twin_cob', 'ticks', 'o8', 'fbr2____', 'skate_ro', 'calgphy2', 'sketch_s', 'small_shadow', 'coinstak', 'baz__bil', 'sm______', 'nvscript', 'stacey', 'joust___', 'catwalk', 'doom', 'twopoint', 'banner4', 'clr7x10', 'clr6x8', 'merlin2', 'battle_s', 'ntgreek', 'charact5', 'britebi', 'xbritebi', 'amc_3_line', 'varsity', 'dwhistled', 'diamond', 'characte', 'big_money-ne', 'demo_1__', 'gradient', 'runyc', 'graceful', 'bubble', 'chartri', 'double', 'clr6x6', 'magic_ma', 'hieroglyphs', 'charact4', 'super_te', 'letterw3', 'hades___', 'clr5x10', 'eftirobot', 'xsansbi', 'amc_neko', '5lineoblique', 'tinker-toy', 'charact6', 'larry3d', 'hills___', 'gothic', 'future_2', 'amc_tubes', 'amc_aaa01', 'isometric4', 'smisome1', 'block', 'e__fist_', 'fbr1____', 'battlesh', 'epic', 'ttyb', 'future_7', 'js_cursive', 'univers', 'future_8', 'rot13', 'line_blocks', 'straight', 'term', 'gothic__', 'charact2', 'decimal', 'broadway_kb', 'future_5', 'britei', 'utopia', 'unarmed_', 'puffy', 'vortron_', 'rastan__', 'octal', 'wet_letter', 'flower_power', 'katakana', 'cricket', 'wavy', 'mike', 'xsansi', 'alphabet', 'yie-ar__', 'tomahawk', 'aquaplan', 'glenyn', 'rok_____', 'helv', 'letters', 'roman___', 'madrid', 'nscript', 'bubble__', 'relief2', 'ogre', \"patorjk's_cheese\", 'flyn_sh', 'new_asci', 'druid___', 'etcrvs__', 'starwars', 'xsbook', 'henry_3d', 'crazy', 'xhelvi', 'helvb', 'train', '4max', 'chunky', 'skateroc', 'greek', 'drpepper', 'cybersmall', 'nancyj-underlined', 'briteb', 'tengwar', 'faces_of', 'fp2_____', 'smkeyboard', 'sblood', 'sansi', 'clr5x8', 'pepper', 'runic', 'p_s_h_m_', 'kgames_i', 'ripper!_', 'merlin1', 'mshebrew210', 'italics_', 'xbrite', 'bloody', 'fbr_stri', 'crawford2', 'rainbow_', 'heroboti', 'spliff', 'xtimes', 'big', 'pod_____', 'big_money-se', 'sweet', 'rally_sp', 'bear', 'sbooki', 'computer', 'basic', 'advenger', 'pawn_ins', 'diet_cola', 'tanja', 'green_be', 'kban', 'eftiwall', 'xsbooki', 'fireing_', 'charset_', 'rev', 'top_duck', 'future_6', 'cards', 'banner3-D', 'konto_slant', 'triad_st', 'avatar', 'calvin_s', 'stop', 'dotmatrix', 'icl-1900', 'cursive', 'roman', 'grand_pr', 'doh', 'char1___', 'lil_devil', 'jerusalem', 'subteran', 'def_leppard', 'star_strips', 'outrun__', 'notie_ca', 'char2___', 'morse2', 'red_phoenix', 'knob', 'space_op', 'clr5x6', 'xsansb', 'smtengwar', 'dancing_font', '1943____', 'lexible_', 'mirror', 'sl_script', 'xcouri', 'stealth_', 'nancyj-improved', 'italic', 'usa_pq__', 'sub-zero', 'soft', 'mcg_____', 'fantasy_', 'speed', 'mad_nurs', 'road_rai', 'nfi1____', 'star_war', 'old_banner', 'eftifont', 'utopiab', 'santa_clara', 'tsn_base', 'wow', 'ascii_new_roman', 'bubble_b', 'modern__', 'caligraphy', 'stick_letters', 'b_m__200', 'taxi____', 'ivrit', 'ebbs_1__', 'horizontal_left', 'rampage_', 'js_stick_letters', 'demo_2__', 'nancyj-fancy', 'os2', 'smscript', 'sansbi', 'panther_', 'atc_____', 'xbriteb', 'com_sen_', 'z-pilot_', 'fairligh', 'future_4', 'stellar', 'bell', 'xsbookb', 'rectangles', 'rci_____', 'bigchief', 'keyboard', 'big_money-sw', 'fire_font-k', 'jazmine', 'beer_pub', 'small_slant', 'fuzzy', 'linux', 'future_3', 'stforek', 'pawp', 'trashman', 'lazy_jon', 'benjamin', 'tubular', 'demo_m__', 'js_block_letters', 'flipped', 'helvi', 'tav1____', 'double_shorts', 'relief', 'b1ff', 'house_of', 'horizontal_right', 'hypa_bal', 'efti_robot', 'hex', 'clb8x8', 'dos_rebel', 'sans', 'ugalympi', 'ucf_fan_', 'mini', 'fire_font-s', 'thorned', 'a_zooloo', 'npn_____', 'bolger', 'slide', 'lcd', 'clr6x10', 'stencil2', 'fraktur', 'rockbox_', 'eftipiti', '6x10', '3-d', 'inc_raw_', 'rotated', 'fun_face', '4x4_offr', 'chartr', 'xsans', '64f1____', 'amc_razor', 'couri', 'whimsy', 'marquee', 'impossible', 'fun_faces', 'courb', 'goofy', 'rounded', 'poison', 'moscow', 'raw_recu', 'arrows', 'heart_right', 'rammstein', 'f15_____', 'test1', 'cour', 'xcourb', 'eftiwater', 'banner3', 'alpha', 'acrobatic', 'fourtops', 'twisted', 'invita', 'type_set', 'r2-d2___', 'short', 'brite', 'colossal', 'xchartri', 'graffiti', 'clr8x8', 'xcourbi', 'georgi16', 'sbookb', 'xsbookbi', 'pebbles', 'radical_', 'xttyb', 'bright', 'slant_relief', 'konto', 'home_pak', 'letter_w', 'ansi_shadow', 'georgia11', '3d_diagonal', 'contrast', 'small', 'assalt_m', 'trek', 'filter', 'bigfig', 'chiseled', 'street_s', 'weird', 'xtty', 'this', 'charact1', 'blocks', 'big_money-nw', '1row', 'small_poison', 'xchartr', 'morse', 'ansi_regular', 'deep_str', 'cybermedium', 'thick', 'alligator2', 'mig_ally', 'alligator', 'rowancap', 'p_skateb', 'binary', 'shimrod', 'slant', 'pyramid', 'stampate', 'amc_3_liv1', 'stronger_than_all', 'devilish', 'clr7x8', 'yie_ar_k', 'lean', 'eca_____', 'rally_s2', 'heart_left', 'utopiai', 'dcs_bfmo', 'clr8x10', 'smshadow', 'script__', 'tec1____', 'skateord', 'funky_dr', 'ebbs_2__', 'xhelvb', 'swamp_land', 'nipples', 'bulbhead', 'coil_cop', 'script', 'broadway', 'usaflag', 'sansb', 'hollywood', 'stencil1', 'stampatello', 'crawford', 'xhelv', 'odel_lak', 'ts1_____', 'threepoint', 'modular', 'fender', 'kik_star', 'finalass', 'fp1_____', 'c2______', 'asslt__m', 'ghost', 'ghoulish', 'ticksslant', 'tty', '6x9', 'zig_zag_', 'heavy_me', 'amc_thin']\n",
      "\n",
      "Transformed Word:\n",
      "                            \n",
      "                            \n",
      "                            \n",
      "                            \n",
      " #           ##   ##        \n",
      " #            #    #        \n",
      " ###   ###    #    #   ###  \n",
      " # ## #####   #    #  ## ## \n",
      " # #  ##     ##   ##  ## #  \n",
      "## ##  ###  #### ####  ##   \n",
      "                            \n",
      "\n"
     ]
    }
   ],
   "source": [
    "import pyfiglet\n",
    "\n",
    "def transform_word():\n",
    "    word = input(\"Enter a word: \")\n",
    "    print(\"\\nAvailable Fonts:\")\n",
    "    print(pyfiglet.FigletFont.getFonts())  # List available fonts\n",
    "    \n",
    "    font = input(\"Choose a font from the above list: \")\n",
    "    try:\n",
    "        ascii_art = pyfiglet.figlet_format(word, font=font)\n",
    "        print(\"\\nTransformed Word:\")\n",
    "        print(ascii_art)\n",
    "    except Exception as e:\n",
    "        print(\"Error:\", e)\n",
    "        print(\"Please ensure you selected a valid font.\")\n",
    "\n",
    "transform_word()"
   ]
  },
  {
   "cell_type": "code",
   "execution_count": 2,
   "metadata": {},
   "outputs": [
    {
     "name": "stdout",
     "output_type": "stream",
     "text": [
      "Time's up!\n"
     ]
    }
   ],
   "source": [
    "import time\n",
    "\n",
    "def countdown_timer(seconds):\n",
    "    while seconds > 0:\n",
    "        mins, secs = divmod(seconds, 60)\n",
    "        timer = '{:02d}:{:02d}'.format(mins, secs)\n",
    "        print(timer, end=\"\\r\")\n",
    "        time.sleep(1)\n",
    "        seconds -= 1\n",
    "    print(\"Time's up!\")\n",
    "\n",
    "countdown_timer(5)  # Set to desired seconds"
   ]
  }
 ],
 "metadata": {
  "kernelspec": {
   "display_name": "Python 3",
   "language": "python",
   "name": "python3"
  },
  "language_info": {
   "codemirror_mode": {
    "name": "ipython",
    "version": 3
   },
   "file_extension": ".py",
   "mimetype": "text/x-python",
   "name": "python",
   "nbconvert_exporter": "python",
   "pygments_lexer": "ipython3",
   "version": "3.10.17"
  }
 },
 "nbformat": 4,
 "nbformat_minor": 2
}
