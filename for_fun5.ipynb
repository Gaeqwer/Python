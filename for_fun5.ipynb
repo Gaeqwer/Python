{
 "cells": [
  {
   "cell_type": "code",
   "execution_count": 1,
   "metadata": {},
   "outputs": [
    {
     "name": "stdout",
     "output_type": "stream",
     "text": [
      "Word frequency: {'I': 1, 'am': 1, 'Gary': 1}\n"
     ]
    }
   ],
   "source": [
    "text = input(\"Enter a sentence: \")\n",
    "words = text.split()\n",
    "frequency = {}\n",
    "\n",
    "for word in words:\n",
    "    frequency[word] = frequency.get(word, 0) + 1\n",
    "\n",
    "print(f\"Word frequency: {frequency}\")"
   ]
  },
  {
   "cell_type": "code",
   "execution_count": 6,
   "metadata": {},
   "outputs": [
    {
     "name": "stdout",
     "output_type": "stream",
     "text": [
      "Welcome!\n",
      "Available operations: +, -, *, /, %, **, sqrt\n",
      "Type 'exit' to leave the caculator.\n",
      "Invalid operation. Please try again.\n",
      "Invalid operation. Please try again.\n",
      "Bye!\n"
     ]
    }
   ],
   "source": [
    "def advanced_caculator():\n",
    "    print(\"Welcome!\")\n",
    "    print(\"Available operations: +, -, *, /, %, **, sqrt\")\n",
    "    print(\"Type 'exit' to leave the caculator.\")\n",
    "\n",
    "    while True:\n",
    "        operation = input(\"\\nEnter an opperation (+, -, *, /, %, **, sqrt) or 'exit' to leave: \").lower()\n",
    "\n",
    "        if operation == 'exit':\n",
    "            print(\"Bye!\")\n",
    "            break\n",
    "\n",
    "        if operation == \"squr\":\n",
    "            number = float(input(\"Enter a number to find the square root: \")) \n",
    "            if number < 0:\n",
    "                print(\"Error: cannot caculate the square root of a negative number.\")\n",
    "            else:\n",
    "                print(f\"√{number} = {number ** 0.5}\")\n",
    "            continue\n",
    "\n",
    "        try:\n",
    "            num1 = float(input(\"Enter the first number: \"))\n",
    "            num2 = float(input(\"Enter the second number: \"))\n",
    "            \n",
    "            if operation == '+':\n",
    "                print(f\"{num1} + {num2} = {num1 + num2}\")\n",
    "            elif operation == '-':\n",
    "                print(f\"{num1} - {num2} = {num1 - num2}\")\n",
    "            elif operation == '*':\n",
    "                print(f\"{num1} * {num2} = {num1 * num2}\")\n",
    "            elif operation == '/':\n",
    "                if num2 == 0:\n",
    "                    print(\"Error: Division by zero is not allowed.\")\n",
    "                else:\n",
    "                    print(f\"{num1} / {num2} = {num1 / num2}\")\n",
    "            elif operation == '%':\n",
    "                print(f\"{num1} % {num2} = {num1 % num2}\")\n",
    "            elif operation == '**':\n",
    "                print(f\"{num1} ** {num2} = {num1 ** num2}\")\n",
    "            else:\n",
    "                print(\"Invalid operation. Please try again.\")\n",
    "        except ValueError:\n",
    "            print(\"Error: Please enter valid numbers.\")\n",
    "\n",
    "advanced_caculator()"
   ]
  },
  {
   "cell_type": "code",
   "execution_count": 3,
   "metadata": {},
   "outputs": [
    {
     "name": "stdout",
     "output_type": "stream",
     "text": [
      "Your new password is: Z%TmFY~\"BOGU\n"
     ]
    }
   ],
   "source": [
    "import random\n",
    "import string\n",
    "\n",
    "def generate_password(length):\n",
    "    characters = string.ascii_letters + string.digits + string.punctuation\n",
    "    return ''.join(random.choice(characters) for _ in range(length))\n",
    "\n",
    "password = generate_password(12)\n",
    "print(f\"Your new password is: {password}\")"
   ]
  },
  {
   "cell_type": "code",
   "execution_count": null,
   "metadata": {},
   "outputs": [],
   "source": []
  }
 ],
 "metadata": {
  "kernelspec": {
   "display_name": "Python 3",
   "language": "python",
   "name": "python3"
  },
  "language_info": {
   "codemirror_mode": {
    "name": "ipython",
    "version": 3
   },
   "file_extension": ".py",
   "mimetype": "text/x-python",
   "name": "python",
   "nbconvert_exporter": "python",
   "pygments_lexer": "ipython3",
   "version": "3.10.14"
  }
 },
 "nbformat": 4,
 "nbformat_minor": 2
}
