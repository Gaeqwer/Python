{
 "cells": [
  {
   "cell_type": "code",
   "execution_count": 1,
   "metadata": {},
   "outputs": [
    {
     "name": "stdout",
     "output_type": "stream",
     "text": [
      "1的平方是1\n",
      "w格式錯誤\n",
      "Do nothing\n",
      "1的平方是1\n",
      "Do nothing\n",
      "Do nothing\n",
      "45的平方是2025\n",
      "Done\n"
     ]
    }
   ],
   "source": [
    "while(True):\n",
    "    value = input(\"Put int,press 'q' wull leave.\")\n",
    "    if value == 'q':\n",
    "        break\n",
    "\n",
    "    try:\n",
    "\n",
    "        valueInt = int(value)\n",
    "    except:\n",
    "        print(f\"{value}格式錯誤\")\n",
    "        continue\n",
    "\n",
    "    if valueInt % 2 == 1:\n",
    "        print(f\"{valueInt}的平方是{valueInt ** 2}\")\n",
    "    else:\n",
    "        print(\"Do nothing\")\n",
    "\n",
    "print(\"Done\")"
   ]
  },
  {
   "cell_type": "code",
   "execution_count": 2,
   "metadata": {},
   "outputs": [
    {
     "name": "stdout",
     "output_type": "stream",
     "text": [
      "77\n",
      "_____Guess number game_____\n",
      "猜數字範圍1~100:23\n",
      "bigger\n",
      "You guess 1 time\n",
      "_____\n",
      "猜數字範圍24~100:56\n",
      "bigger\n",
      "You guess 2 time\n",
      "_____\n",
      "猜數字範圍57~100:'y' is not an integer.\n",
      "猜數字範圍57~100:78\n",
      "smaller\n",
      "You guess 3 time\n",
      "_____\n",
      "猜數字範圍57~100:88\n",
      "smaller\n",
      "You guess 4 time\n",
      "_____\n",
      "猜數字範圍57~100:'n' is not an integer.\n",
      "猜數字範圍57~100:23\n",
      "bigger\n",
      "You guess 5 time\n",
      "_____\n",
      "猜數字範圍24~100:45\n",
      "bigger\n",
      "You guess 6 time\n",
      "_____\n",
      "猜數字範圍46~100:77\n",
      "Bingo!You guess right,answer is 77\n",
      "You guess 7 time\n",
      "Continue?(y,n)Game over\n"
     ]
    }
   ],
   "source": [
    "import pyinputplus as pyip\n",
    "import random\n",
    "\n",
    "while(True):\n",
    "    min = 1\n",
    "    max = 100\n",
    "    count = 0\n",
    "    random_num = random.randint(min,max)\n",
    "    print(random_num)\n",
    "    print(\"_____Guess number game_____\")\n",
    "    while True:\n",
    "        keyin = pyip.inputInt(f\"猜數字範圍{min}~{max}:\")\n",
    "        count += 1\n",
    "        print(keyin)\n",
    "        if keyin == random_num:\n",
    "            print(f\"Bingo!You guess right,answer is {random_num}\")\n",
    "            print(f\"You guess {count} time\")\n",
    "            break\n",
    "        elif keyin > random_num:\n",
    "            print(\"smaller\")\n",
    "        elif keyin < random_num:\n",
    "            print(\"bigger\")\n",
    "            min = keyin + 1\n",
    "        print(f\"You guess {count} time\")\n",
    "        print(\"_____\")\n",
    "\n",
    "    is_continue = pyip.inputYesNo(\"Continue?(y,n)\")\n",
    "    if is_continue != \"yes\":\n",
    "        break\n",
    "print(\"Game over\")"
   ]
  },
  {
   "cell_type": "code",
   "execution_count": 3,
   "metadata": {},
   "outputs": [
    {
     "name": "stdout",
     "output_type": "stream",
     "text": [
      "Hello!\n"
     ]
    }
   ],
   "source": [
    "def sayHello():\n",
    "    print(\"Hello!\")\n",
    "\n",
    "sayHello()"
   ]
  }
 ],
 "metadata": {
  "kernelspec": {
   "display_name": "Python 3",
   "language": "python",
   "name": "python3"
  },
  "language_info": {
   "codemirror_mode": {
    "name": "ipython",
    "version": 3
   },
   "file_extension": ".py",
   "mimetype": "text/x-python",
   "name": "python",
   "nbconvert_exporter": "python",
   "pygments_lexer": "ipython3",
   "version": "3.10.13"
  }
 },
 "nbformat": 4,
 "nbformat_minor": 2
}
