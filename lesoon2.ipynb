{
 "cells": [
  {
   "cell_type": "code",
   "execution_count": 10,
   "metadata": {},
   "outputs": [
    {
     "name": "stdout",
     "output_type": "stream",
     "text": [
      "3.14159+5.6789=8.82049\n"
     ]
    }
   ],
   "source": [
    "#input() any u can put\n",
    "n = eval(input('n number:'))\n",
    "m = eval(input('m number:'))\n",
    "Total = n + m\n",
    "print(f\"{n}+{m}={Total}\")"
   ]
  },
  {
   "cell_type": "code",
   "execution_count": 11,
   "metadata": {},
   "outputs": [
    {
     "name": "stdout",
     "output_type": "stream",
     "text": [
      "3.14159+5.6789=8.82\n"
     ]
    }
   ],
   "source": [
    "#input() any u can put\n",
    "n = eval(input('n number:'))\n",
    "m = eval(input('m number:'))\n",
    "Total = n + m\n",
    "print(f\"{n}+{m}={Total:.2f}\")"
   ]
  },
  {
   "cell_type": "code",
   "execution_count": 8,
   "metadata": {},
   "outputs": [
    {
     "name": "stdout",
     "output_type": "stream",
     "text": [
      "3\n",
      "3 5 ab 3.145\n"
     ]
    }
   ],
   "source": [
    "print(3)\n",
    "print(3, '5', 'ab', 3.145)"
   ]
  },
  {
   "cell_type": "code",
   "execution_count": 12,
   "metadata": {},
   "outputs": [
    {
     "data": {
      "text/plain": [
       "10"
      ]
     },
     "execution_count": 12,
     "metadata": {},
     "output_type": "execute_result"
    }
   ],
   "source": [
    "n = 5\n",
    "n = n+5\n",
    "n"
   ]
  },
  {
   "cell_type": "code",
   "execution_count": 14,
   "metadata": {},
   "outputs": [
    {
     "name": "stdout",
     "output_type": "stream",
     "text": [
      "Three plus together is 6\n"
     ]
    }
   ],
   "source": [
    "Total = 0\n",
    "Value = eval(input(\"Put your first number:\"))\n",
    "Total  = Total + Value\n",
    "\n",
    "Value = eval(input(\"Put your second number:\"))\n",
    "Total  = Total + Value\n",
    "\n",
    "Value = eval(input(\"Put your third number:\"))\n",
    "Total  = Total + Value\n",
    "print(f\"Three plus together is {Total}\")"
   ]
  },
  {
   "cell_type": "code",
   "execution_count": 15,
   "metadata": {},
   "outputs": [
    {
     "name": "stdout",
     "output_type": "stream",
     "text": [
      "Three plus together is 6\n"
     ]
    }
   ],
   "source": [
    "Total = 0\n",
    "Value = eval(input(\"Put your first number:\"))\n",
    "Total += Value\n",
    "\n",
    "Value = eval(input(\"Put your second number:\"))\n",
    "Total += Value\n",
    "\n",
    "Value = eval(input(\"Put your third number:\"))\n",
    "Total += Value\n",
    "print(f\"Three plus together is {Total}\")"
   ]
  },
  {
   "cell_type": "code",
   "execution_count": 16,
   "metadata": {},
   "outputs": [
    {
     "data": {
      "text/plain": [
       "0.06671614841022526"
      ]
     },
     "execution_count": 16,
     "metadata": {},
     "output_type": "execute_result"
    }
   ],
   "source": [
    "#counting radian(弧度)\n",
    "import math\n",
    "\n",
    "side = eval(input(\"Pls put opposite:\"))\n",
    "another_side = eval(input(\"Pls put hypotenuse:\"))\n",
    "\n",
    "radian = math.asin(side/another_side)\n",
    "radian"
   ]
  },
  {
   "cell_type": "code",
   "execution_count": 17,
   "metadata": {},
   "outputs": [
    {
     "name": "stdout",
     "output_type": "stream",
     "text": [
      "Opposite:23, Hypotenuse:45\n",
      "angle is 30.74\n"
     ]
    }
   ],
   "source": [
    "#counting angle(角度)\n",
    "import math\n",
    "\n",
    "side = eval(input(\"Pls put opposite:\"))\n",
    "another_side = eval(input(\"Pls put hypotenuse:\"))\n",
    "\n",
    "radian = math.asin(side/another_side)\n",
    "degree = math.degrees(radian)\n",
    "\n",
    "print(f\"Opposite:{side}, Hypotenuse:{another_side}\")\n",
    "print(f\"angle is {degree:.2f}\")"
   ]
  },
  {
   "cell_type": "code",
   "execution_count": 18,
   "metadata": {},
   "outputs": [
    {
     "data": {
      "text/plain": [
       "2.718281828459045"
      ]
     },
     "execution_count": 18,
     "metadata": {},
     "output_type": "execute_result"
    }
   ],
   "source": [
    "math.e"
   ]
  },
  {
   "cell_type": "code",
   "execution_count": 19,
   "metadata": {},
   "outputs": [
    {
     "data": {
      "text/plain": [
       "3.141592653589793"
      ]
     },
     "execution_count": 19,
     "metadata": {},
     "output_type": "execute_result"
    }
   ],
   "source": [
    "math.pi"
   ]
  }
 ],
 "metadata": {
  "kernelspec": {
   "display_name": "Python 3",
   "language": "python",
   "name": "python3"
  },
  "language_info": {
   "codemirror_mode": {
    "name": "ipython",
    "version": 3
   },
   "file_extension": ".py",
   "mimetype": "text/x-python",
   "name": "python",
   "nbconvert_exporter": "python",
   "pygments_lexer": "ipython3",
   "version": "3.10.13"
  }
 },
 "nbformat": 4,
 "nbformat_minor": 2
}
