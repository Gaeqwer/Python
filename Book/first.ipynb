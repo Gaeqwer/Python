{
 "cells": [
  {
   "cell_type": "code",
   "execution_count": 23,
   "metadata": {},
   "outputs": [],
   "source": [
    "import sys\n",
    "import random\n",
    "import itertools\n",
    "import numpy\n",
    "#cv2\n",
    "\n",
    "Map_FILE = 'cpae-pyhton.png'\n",
    "\n",
    "SA1_CORNERS = (130,265,180,315)\n",
    "SA2_CORNERS = (80,255,130,305)\n",
    "SA3_CORNERS = (105,205,155,255)\n",
    "\n",
    "class Search():\n",
    "    \"\"\n",
    "    def __init__(self,name):\n",
    "        self.name = name\n",
    "        "
   ]
  }
 ],
 "metadata": {
  "kernelspec": {
   "display_name": "Python 3",
   "language": "python",
   "name": "python3"
  },
  "language_info": {
   "codemirror_mode": {
    "name": "ipython",
    "version": 3
   },
   "file_extension": ".py",
   "mimetype": "text/x-python",
   "name": "python",
   "nbconvert_exporter": "python",
   "pygments_lexer": "ipython3",
   "version": "3.10.14"
  }
 },
 "nbformat": 4,
 "nbformat_minor": 2
}
