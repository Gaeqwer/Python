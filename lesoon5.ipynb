{
 "cells": [
  {
   "cell_type": "code",
   "execution_count": 3,
   "metadata": {},
   "outputs": [
    {
     "name": "stdout",
     "output_type": "stream",
     "text": [
      "25\n",
      "Done\n"
     ]
    }
   ],
   "source": [
    "#try,except try but if not then wrong __ raise exception\n",
    "try:\n",
    "    money = int(input(\"Put the money:\"))\n",
    "    print(money)\n",
    "except:\n",
    "    print(\"it not the int\")\n",
    "\n",
    "print(\"Done\")"
   ]
  },
  {
   "cell_type": "code",
   "execution_count": 8,
   "metadata": {},
   "outputs": [
    {
     "name": "stdout",
     "output_type": "stream",
     "text": [
      "Not usaul error\n",
      "Done\n"
     ]
    }
   ],
   "source": [
    "#same raise exception , ValueError SyntaxError\n",
    "try:\n",
    "    money = int(input(\"Put money:\"))\n",
    "    floats = eval(input(\"Put float\"))\n",
    "    raise KeyboardInterrupt\n",
    "\n",
    "except SyntaxError:\n",
    "    print(\"it not float\")\n",
    "\n",
    "except ValueError:\n",
    "    print(\"it not int\")\n",
    "\n",
    "except:\n",
    "    print(\"Not usaul error\")\n",
    "\n",
    "print(\"Done\")"
   ]
  },
  {
   "cell_type": "code",
   "execution_count": 10,
   "metadata": {},
   "outputs": [
    {
     "name": "stdout",
     "output_type": "stream",
     "text": [
      "69\n",
      "69.0\n",
      "Done\n"
     ]
    }
   ],
   "source": [
    "#else + try,except\n",
    "try:\n",
    "    money = int(input(\"Put money:\"))\n",
    "    floats = eval(input(\"Put float\"))\n",
    "\n",
    "except SyntaxError:\n",
    "    print(\"it not float\")\n",
    "\n",
    "except ValueError:\n",
    "    print(\"it not int\")\n",
    "\n",
    "except:\n",
    "    print(\"Not usaul error\")\n",
    "\n",
    "else:\n",
    "    print(money)\n",
    "    print(floats)\n",
    "\n",
    "print(\"Done\")"
   ]
  },
  {
   "cell_type": "code",
   "execution_count": 12,
   "metadata": {},
   "outputs": [
    {
     "name": "stdout",
     "output_type": "stream",
     "text": [
      "student score is:246\n"
     ]
    }
   ],
   "source": [
    "#Student total is 300 point\n",
    "#some of them can plus 5% point\n",
    "#if more than 300 then is 300\n",
    "\n",
    "try:\n",
    "    student_score = int(input(\"put student score(highest is 300):\"))\n",
    "except ValueError:\n",
    "    print(\"is not int\")\n",
    "\n",
    "except:\n",
    "    print(\"IDK error\")\n",
    "else:\n",
    "    if student_score <= 300:\n",
    "        add = input(\"can student plus score?(y,n)\")\n",
    "\n",
    "        if(add == \"y\"):\n",
    "            student_score *= 1.05\n",
    "            if student_score > 300:\n",
    "                student_score = 300\n",
    "        print(f\"student score is:{round(student_score)}\")\n",
    "    else:\n",
    "        print(\"Can't higher than 300\")\n",
    "\n"
   ]
  },
  {
   "cell_type": "code",
   "execution_count": 20,
   "metadata": {},
   "outputs": [
    {
     "name": "stdout",
     "output_type": "stream",
     "text": [
      "put student score(highest 300):245\n",
      "can plus(y,n):'g' is not a valid y/n response.\n",
      "can plus(y,n):y\n",
      "student score is 257\n"
     ]
    }
   ],
   "source": [
    "#min,max,yesVal.noVal\n",
    "import pyinputplus as pyip\n",
    "\n",
    "student_scores = pyip.inputInt(\"put student score(highest 300):\",min=0,max=300)\n",
    "print(student_scores)\n",
    "\n",
    "adds = pyip.inputYesNo(\"can plus(y,n):\",yesVal= 'y',noVal='n',\n",
    "default='n',blank=True)\n",
    "print(adds)\n",
    "if(adds == \"y\"):\n",
    "        student_scores *= 1.05\n",
    "        if student_scores > 300:\n",
    "            student_scores = 300\n",
    "print(f\"student score is {round(student_scores)}\")"
   ]
  },
  {
   "cell_type": "code",
   "execution_count": 23,
   "metadata": {},
   "outputs": [
    {
     "name": "stdout",
     "output_type": "stream",
     "text": [
      "put score(1~100):69\n",
      "D grade\n"
     ]
    }
   ],
   "source": [
    "import pyinputplus as pyip\n",
    "\n",
    "score = pyip.inputInt(\"put score(1~100):\",min=0,max=100)\n",
    "print(score)\n",
    "\n",
    "if score < 60:\n",
    "    print(\"E grade\")\n",
    "elif score < 70:\n",
    "    print(\"D grade\")\n",
    "elif score < 80:\n",
    "    print(\"C grade\")\n",
    "elif score < 90:\n",
    "    print(\"B grade\")\n",
    "else:\n",
    "    print(\"A grade\")"
   ]
  }
 ],
 "metadata": {
  "kernelspec": {
   "display_name": "Python 3",
   "language": "python",
   "name": "python3"
  },
  "language_info": {
   "codemirror_mode": {
    "name": "ipython",
    "version": 3
   },
   "file_extension": ".py",
   "mimetype": "text/x-python",
   "name": "python",
   "nbconvert_exporter": "python",
   "pygments_lexer": "ipython3",
   "version": "3.10.13"
  }
 },
 "nbformat": 4,
 "nbformat_minor": 2
}
